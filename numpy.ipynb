{
  "nbformat": 4,
  "nbformat_minor": 0,
  "metadata": {
    "colab": {
      "provenance": [],
      "authorship_tag": "ABX9TyOKL5+pcFIlCGVKi15g/viI",
      "include_colab_link": true
    },
    "kernelspec": {
      "name": "python3",
      "display_name": "Python 3"
    },
    "language_info": {
      "name": "python"
    }
  },
  "cells": [
    {
      "cell_type": "markdown",
      "metadata": {
        "id": "view-in-github",
        "colab_type": "text"
      },
      "source": [
        "<a href=\"https://colab.research.google.com/github/jadhav-rakesh/Python_Modules/blob/main/numpy.ipynb\" target=\"_parent\"><img src=\"https://colab.research.google.com/assets/colab-badge.svg\" alt=\"Open In Colab\"/></a>"
      ]
    },
    {
      "cell_type": "code",
      "execution_count": 1,
      "metadata": {
        "id": "eR6auhedahbL"
      },
      "outputs": [],
      "source": [
        "import numpy as np"
      ]
    },
    {
      "cell_type": "code",
      "source": [
        "#Gajendragad Weather Values  on 26/01/25\n",
        "cvalues = [32.1, 31.8, 31.9, 31.5, 30.7, 28.3, 26.8, 24.2, 22.9, 21.1]"
      ],
      "metadata": {
        "id": "N6RJsYS1a9lZ"
      },
      "execution_count": 2,
      "outputs": []
    },
    {
      "cell_type": "code",
      "source": [
        "c = np.array(cvalues)\n",
        "c"
      ],
      "metadata": {
        "colab": {
          "base_uri": "https://localhost:8080/"
        },
        "id": "PZq18l3_duFW",
        "outputId": "205d3fca-69c0-4199-c9f7-a2b7ea55446e"
      },
      "execution_count": 3,
      "outputs": [
        {
          "output_type": "execute_result",
          "data": {
            "text/plain": [
              "array([32.1, 31.8, 31.9, 31.5, 30.7, 28.3, 26.8, 24.2, 22.9, 21.1])"
            ]
          },
          "metadata": {},
          "execution_count": 3
        }
      ]
    },
    {
      "cell_type": "code",
      "source": [
        "c * 9 / 5 + 32"
      ],
      "metadata": {
        "colab": {
          "base_uri": "https://localhost:8080/"
        },
        "id": "YfaSSYFMdxp4",
        "outputId": "8da22886-7cfd-404d-bc77-8a387f37b1aa"
      },
      "execution_count": 4,
      "outputs": [
        {
          "output_type": "execute_result",
          "data": {
            "text/plain": [
              "array([89.78, 89.24, 89.42, 88.7 , 87.26, 82.94, 80.24, 75.56, 73.22,\n",
              "       69.98])"
            ]
          },
          "metadata": {},
          "execution_count": 4
        }
      ]
    },
    {
      "cell_type": "code",
      "source": [
        "c"
      ],
      "metadata": {
        "colab": {
          "base_uri": "https://localhost:8080/"
        },
        "id": "xZqxoh_-eF3f",
        "outputId": "3ea267d0-c483-49ec-d286-fde9c4af4ad3"
      },
      "execution_count": 5,
      "outputs": [
        {
          "output_type": "execute_result",
          "data": {
            "text/plain": [
              "array([32.1, 31.8, 31.9, 31.5, 30.7, 28.3, 26.8, 24.2, 22.9, 21.1])"
            ]
          },
          "metadata": {},
          "execution_count": 5
        }
      ]
    },
    {
      "cell_type": "code",
      "source": [
        "#using python[looks awkward]\n",
        "fvalues = [x*9/5 + 32 for x in cvalues]\n",
        "fvalues"
      ],
      "metadata": {
        "colab": {
          "base_uri": "https://localhost:8080/"
        },
        "id": "iq7d8j8LePZq",
        "outputId": "40e1e1c4-a14a-4e76-b94b-1c34f3ad52df"
      },
      "execution_count": 6,
      "outputs": [
        {
          "output_type": "execute_result",
          "data": {
            "text/plain": [
              "[89.78,\n",
              " 89.24,\n",
              " 89.41999999999999,\n",
              " 88.7,\n",
              " 87.26,\n",
              " 82.94,\n",
              " 80.24000000000001,\n",
              " 75.56,\n",
              " 73.22,\n",
              " 69.98]"
            ]
          },
          "metadata": {},
          "execution_count": 6
        }
      ]
    },
    {
      "cell_type": "code",
      "source": [
        "type(c)"
      ],
      "metadata": {
        "colab": {
          "base_uri": "https://localhost:8080/"
        },
        "id": "cm4kag0leggS",
        "outputId": "51cecfa1-2d80-41d9-fb36-63f51154f32b"
      },
      "execution_count": 7,
      "outputs": [
        {
          "output_type": "execute_result",
          "data": {
            "text/plain": [
              "numpy.ndarray"
            ]
          },
          "metadata": {},
          "execution_count": 7
        }
      ]
    },
    {
      "cell_type": "code",
      "source": [
        "#for jupyter notebook to prevent pop up of window\n",
        "# matplotlib inline"
      ],
      "metadata": {
        "id": "M2OIYJ7wf3JR"
      },
      "execution_count": 8,
      "outputs": []
    },
    {
      "cell_type": "code",
      "source": [
        "import matplotlib.pyplot as plt\n",
        "\n",
        "plt.plot(c)\n",
        "plt.show()"
      ],
      "metadata": {
        "colab": {
          "base_uri": "https://localhost:8080/",
          "height": 430
        },
        "id": "f1MzaTl1gLfP",
        "outputId": "52a4eb19-f72e-49d2-dcf5-f877cb11d65d"
      },
      "execution_count": 9,
      "outputs": [
        {
          "output_type": "display_data",
          "data": {
            "text/plain": [
              "<Figure size 640x480 with 1 Axes>"
            ],
            "image/png": "[encoded data removed]"
          },
          "metadata": {}
        }
      ]
    },
    {
      "cell_type": "code",
      "source": [
        "from sys import getsizeof as size\n",
        "\n",
        "lst = [24, 13, 57]\n",
        "\n",
        "size_of_list_object = size(lst)\n",
        "size_of_elements = len(lst) * size(lst[0])\n",
        "\n",
        "total_list_size = size_of_list_object + size_of_elements\n",
        "print(\"Size without the size of the elements:\", size_of_list_object)\n",
        "print(\"Sizel of all the elements:\", size_of_elements)\n",
        "print(\"Total size of list, including elements:\", total_list_size)\n"
      ],
      "metadata": {
        "colab": {
          "base_uri": "https://localhost:8080/"
        },
        "id": "b1tw1e4ElUWt",
        "outputId": "a9c03771-c1bc-4f7d-d49e-0967c2e0eff8"
      },
      "execution_count": 10,
      "outputs": [
        {
          "output_type": "stream",
          "name": "stdout",
          "text": [
            "Size without the size of the elements: 88\n",
            "Sizel of all the elements: 84\n",
            "Total size of list, including elements: 172\n"
          ]
        }
      ]
    },
    {
      "cell_type": "code",
      "source": [
        "from sys import getsizeof as size\n",
        "\n",
        "lst = [24, 13, 57, 42]\n",
        "\n",
        "size_of_list_object = size(lst)\n",
        "size_of_elements = len(lst) * size(lst[0])\n",
        "\n",
        "total_list_size = size_of_list_object + size_of_elements\n",
        "print(\"Size without the size of the elements:\", size_of_list_object)\n",
        "print(\"Sizel of all the elements:\", size_of_elements)\n",
        "print(\"Total size of list, including elements:\", total_list_size)"
      ],
      "metadata": {
        "colab": {
          "base_uri": "https://localhost:8080/"
        },
        "id": "05vRBf2VkITJ",
        "outputId": "0f9aa170-7b20-4c94-87f7-3cc94f5a5c68"
      },
      "execution_count": 11,
      "outputs": [
        {
          "output_type": "stream",
          "name": "stdout",
          "text": [
            "Size without the size of the elements: 88\n",
            "Sizel of all the elements: 112\n",
            "Total size of list, including elements: 200\n"
          ]
        }
      ]
    },
    {
      "cell_type": "code",
      "source": [
        "from sys import getsizeof as size\n",
        "\n",
        "lst = [24, 13, 57, 42,  76]\n",
        "\n",
        "size_of_list_object = size(lst)\n",
        "size_of_elements = len(lst) * size(lst[0])\n",
        "\n",
        "total_list_size = size_of_list_object + size_of_elements\n",
        "print(\"Size without the size of the elements:\", size_of_list_object)\n",
        "print(\"Sizel of all the elements:\", size_of_elements)\n",
        "print(\"Total size of list, including elements:\", total_list_size)"
      ],
      "metadata": {
        "colab": {
          "base_uri": "https://localhost:8080/"
        },
        "id": "DpBXr0Q6mP9l",
        "outputId": "e69edf7a-0150-4112-da65-8b1a074fa18c"
      },
      "execution_count": 12,
      "outputs": [
        {
          "output_type": "stream",
          "name": "stdout",
          "text": [
            "Size without the size of the elements: 104\n",
            "Sizel of all the elements: 140\n",
            "Total size of list, including elements: 244\n"
          ]
        }
      ]
    },
    {
      "cell_type": "code",
      "source": [
        "a = np.array([24, 13, 57])\n",
        "print(size(a))"
      ],
      "metadata": {
        "colab": {
          "base_uri": "https://localhost:8080/"
        },
        "id": "Deyj_OnL3AO1",
        "outputId": "cf1f1846-2e56-410b-836e-8eea83231ca2"
      },
      "execution_count": 13,
      "outputs": [
        {
          "output_type": "stream",
          "name": "stdout",
          "text": [
            "136\n"
          ]
        }
      ]
    },
    {
      "cell_type": "code",
      "source": [
        "e = np.array([])\n",
        "print(size(e))"
      ],
      "metadata": {
        "colab": {
          "base_uri": "https://localhost:8080/"
        },
        "id": "3etIgmTp3yek",
        "outputId": "56be2289-bdfe-4a74-edf5-65c9b33c6aa3"
      },
      "execution_count": 14,
      "outputs": [
        {
          "output_type": "stream",
          "name": "stdout",
          "text": [
            "112\n"
          ]
        }
      ]
    },
    {
      "cell_type": "markdown",
      "source": [
        "#Memory requirement\n",
        "* numpy array - 112 + (len(arr) * 8) bytes\n",
        "* python array - 64 + (len(arr) * 8) + (len(arr) * 28) bytes"
      ],
      "metadata": {
        "id": "nxVyNvsYCSj6"
      }
    },
    {
      "cell_type": "code",
      "source": [
        "a = np.array([24, 13, 57], np.int8)\n",
        "print(size(a) - 112)\n",
        "\n",
        "a = np.array([24, 13, 57], np.int16)\n",
        "print(size(a) - 112)\n",
        "\n",
        "a = np.array([24, 13, 57], np.int32)\n",
        "print(size(a) - 112)\n",
        "\n",
        "a = np.array([24, 13, 57], np.int64)\n",
        "print(size(a) - 112)"
      ],
      "metadata": {
        "colab": {
          "base_uri": "https://localhost:8080/"
        },
        "id": "OIqUhPnLCCy8",
        "outputId": "fd97fd8d-0177-4f68-edda-d570adecd656"
      },
      "execution_count": 15,
      "outputs": [
        {
          "output_type": "stream",
          "name": "stdout",
          "text": [
            "3\n",
            "6\n",
            "12\n",
            "24\n"
          ]
        }
      ]
    },
    {
      "cell_type": "code",
      "source": [
        "import time\n",
        "size_of_vec = 1000\n",
        "\n",
        "def pure_python_version():\n",
        "    t1 = time.time()\n",
        "    X = range(size_of_vec)\n",
        "    Y = range(size_of_vec)\n",
        "    Z = [X[i] + Y[i] for i in range(len(X))]\n",
        "    return time.time() - t1\n",
        "\n",
        "def numpy_version():\n",
        "    t1 = time.time()\n",
        "    X = np.arange(size_of_vec)\n",
        "    Y = np.arange(size_of_vec)\n",
        "    Z = X + Y\n",
        "    return time.time() - t1\n",
        "\n",
        "t1 = pure_python_version()\n",
        "t2 = numpy_version()\n",
        "\n",
        "print(t1, t2)\n",
        "print(\"Numpy is in this example \" + str(t1/t2) + \"faster!\")"
      ],
      "metadata": {
        "colab": {
          "base_uri": "https://localhost:8080/"
        },
        "id": "LIhPSDBkEa-L",
        "outputId": "5879d547-1c00-4ac8-f628-0d5cfe2b21ed"
      },
      "execution_count": 16,
      "outputs": [
        {
          "output_type": "stream",
          "name": "stdout",
          "text": [
            "0.0003235340118408203 4.673004150390625e-05\n",
            "Numpy is in this example 6.923469387755102faster!\n"
          ]
        }
      ]
    },
    {
      "cell_type": "code",
      "source": [
        "from timeit import Timer\n",
        "\n",
        "size_of_vec = 1000\n",
        "\n",
        "X_list = range(size_of_vec)\n",
        "Y_list = range(size_of_vec)\n",
        "\n",
        "X = np.arange(size_of_vec)\n",
        "Y = np.arange(size_of_vec)\n",
        "\n",
        "def pure_python_version():\n",
        "    Z = [X_list[i] + Y_list[i] for i in range(len(X_list))]\n",
        "\n",
        "def numpy_version():\n",
        "    Z = X + Y\n",
        "\n",
        "timer_obj1 = Timer(\"pure_python_version()\", \"from __main__ import pure_python_version\")\n",
        "timer_obj2 = Timer(\"numpy_version\", \"from __main__ import numpy_version\")\n",
        "\n",
        "for i in range(3):\n",
        "    t1 = timer_obj1.timeit(10)\n",
        "    t2 = timer_obj2.timeit(10)\n",
        "    print(\"TIme for pure python version: \", t1)\n",
        "    print(\"Time for numpy version: \", t2)\n",
        "    print(f\"Numpy wa {t1/t2:7.2f} times faster!\")"
      ],
      "metadata": {
        "colab": {
          "base_uri": "https://localhost:8080/"
        },
        "id": "SncIKKEaGP0B",
        "outputId": "f40b8816-c7bd-4585-d2b6-a6e77e3d26f1"
      },
      "execution_count": 17,
      "outputs": [
        {
          "output_type": "stream",
          "name": "stdout",
          "text": [
            "TIme for pure python version:  0.005039979000002859\n",
            "Time for numpy version:  2.6697999999214517e-05\n",
            "Numpy wa  188.78 times faster!\n",
            "TIme for pure python version:  0.0029061550000051284\n",
            "Time for numpy version:  8.849999915128137e-07\n",
            "Numpy wa 3283.79 times faster!\n",
            "TIme for pure python version:  0.0029516710000052626\n",
            "Time for numpy version:  7.289999928161706e-07\n",
            "Numpy wa 4048.93 times faster!\n"
          ]
        }
      ]
    },
    {
      "cell_type": "code",
      "source": [
        "print(timer_obj1.repeat(repeat=3, number=10))\n",
        "print(timer_obj2.repeat(repeat=3, number=10))"
      ],
      "metadata": {
        "colab": {
          "base_uri": "https://localhost:8080/"
        },
        "id": "8cs2T2ahJZh6",
        "outputId": "5d8ee29b-2ffd-4e9f-aa3f-a8fbc7a83429"
      },
      "execution_count": 18,
      "outputs": [
        {
          "output_type": "stream",
          "name": "stdout",
          "text": [
            "[0.0030014980000032665, 0.003916522999986682, 0.004606813000009424]\n",
            "[9.750000060648745e-07, 5.710000152703287e-07, 6.799999994200334e-07]\n"
          ]
        }
      ]
    },
    {
      "cell_type": "markdown",
      "source": [
        "#Creatiing Arrays"
      ],
      "metadata": {
        "id": "e_rHkqKX_owT"
      }
    },
    {
      "cell_type": "code",
      "source": [
        "#ARANGE - create arrays with evenly spaces values\n",
        "#arange([start,] stop[, step], [, dtype=None])\n",
        "#[start, stop)\n",
        "\n",
        "a = np.arange(1, 10)\n",
        "print(a)\n",
        "\n",
        "x = range(1, 10)\n",
        "print(x)\n",
        "print(list(x))\n",
        "\n",
        "x = np.arange(10.4)\n",
        "print(x)\n",
        "x = np.arange(0.5, 10.4, 0.8)\n",
        "print(x)"
      ],
      "metadata": {
        "id": "krLR7ne6JnyA",
        "colab": {
          "base_uri": "https://localhost:8080/"
        },
        "outputId": "7a2afe50-db65-4e26-a49b-18acdeba1449"
      },
      "execution_count": 19,
      "outputs": [
        {
          "output_type": "stream",
          "name": "stdout",
          "text": [
            "[1 2 3 4 5 6 7 8 9]\n",
            "range(1, 10)\n",
            "[1, 2, 3, 4, 5, 6, 7, 8, 9]\n",
            "[ 0.  1.  2.  3.  4.  5.  6.  7.  8.  9. 10.]\n",
            "[ 0.5  1.3  2.1  2.9  3.7  4.5  5.3  6.1  6.9  7.7  8.5  9.3 10.1]\n"
          ]
        }
      ]
    },
    {
      "cell_type": "code",
      "source": [
        "np.arange(12.04, 12.84, 0.08)"
      ],
      "metadata": {
        "colab": {
          "base_uri": "https://localhost:8080/"
        },
        "id": "JYDk5qmWBtqT",
        "outputId": "0c63110b-5a73-41f8-95d4-06569edb7dc1"
      },
      "execution_count": 20,
      "outputs": [
        {
          "output_type": "execute_result",
          "data": {
            "text/plain": [
              "array([12.04, 12.12, 12.2 , 12.28, 12.36, 12.44, 12.52, 12.6 , 12.68,\n",
              "       12.76, 12.84])"
            ]
          },
          "metadata": {},
          "execution_count": 20
        }
      ]
    },
    {
      "cell_type": "code",
      "source": [
        "x = np.arange(0.5, 10.4, 0.8, int)\n",
        "x"
      ],
      "metadata": {
        "colab": {
          "base_uri": "https://localhost:8080/"
        },
        "id": "n96TKHpsBs9Q",
        "outputId": "bfdcade5-ccd8-4540-e0ac-69283fb9f147"
      },
      "execution_count": 21,
      "outputs": [
        {
          "output_type": "execute_result",
          "data": {
            "text/plain": [
              "array([ 0,  1,  2,  3,  4,  5,  6,  7,  8,  9, 10, 11, 12])"
            ]
          },
          "metadata": {},
          "execution_count": 21
        }
      ]
    },
    {
      "cell_type": "code",
      "source": [
        "#LINSPACE\n",
        "#linspace(start, stop, num=50, endpoint=True, retstep=False)\n",
        "\n",
        "print(np.linspace(1, 10))\n",
        "print(np.linspace(1, 10, 7))\n",
        "print(np.linspace(1, 10, 7, endpoint=False))"
      ],
      "metadata": {
        "id": "veoxVyP8EGuv",
        "colab": {
          "base_uri": "https://localhost:8080/"
        },
        "outputId": "4de781c6-dcbf-46e4-e1bb-ec384b3e3934"
      },
      "execution_count": 22,
      "outputs": [
        {
          "output_type": "stream",
          "name": "stdout",
          "text": [
            "[ 1.          1.18367347  1.36734694  1.55102041  1.73469388  1.91836735\n",
            "  2.10204082  2.28571429  2.46938776  2.65306122  2.83673469  3.02040816\n",
            "  3.20408163  3.3877551   3.57142857  3.75510204  3.93877551  4.12244898\n",
            "  4.30612245  4.48979592  4.67346939  4.85714286  5.04081633  5.2244898\n",
            "  5.40816327  5.59183673  5.7755102   5.95918367  6.14285714  6.32653061\n",
            "  6.51020408  6.69387755  6.87755102  7.06122449  7.24489796  7.42857143\n",
            "  7.6122449   7.79591837  7.97959184  8.16326531  8.34693878  8.53061224\n",
            "  8.71428571  8.89795918  9.08163265  9.26530612  9.44897959  9.63265306\n",
            "  9.81632653 10.        ]\n",
            "[ 1.   2.5  4.   5.5  7.   8.5 10. ]\n",
            "[1.         2.28571429 3.57142857 4.85714286 6.14285714 7.42857143\n",
            " 8.71428571]\n"
          ]
        }
      ]
    },
    {
      "cell_type": "code",
      "source": [
        "samples, spacing = np.linspace(1, 10, retstep=True)\n",
        "print(spacing)\n",
        "samples, spacing = np.linspace(1, 10, 20, retstep=True)\n",
        "print(spacing)\n",
        "samples, spacing = np.linspace(1, 10, 20,endpoint=False, retstep=True)\n",
        "print(spacing)"
      ],
      "metadata": {
        "colab": {
          "base_uri": "https://localhost:8080/"
        },
        "id": "sCzMA4cs3_qI",
        "outputId": "2626ded2-f6e9-4404-ca5d-488ceeb0c872"
      },
      "execution_count": 23,
      "outputs": [
        {
          "output_type": "stream",
          "name": "stdout",
          "text": [
            "0.1836734693877551\n",
            "0.47368421052631576\n",
            "0.45\n"
          ]
        }
      ]
    },
    {
      "cell_type": "code",
      "source": [
        "#0D - Scalars\n",
        "x = np.array(42)\n",
        "print(\"x:\",x)\n",
        "print(\"The type of x:\", type(x))\n",
        "print(\"The dimension of x:\", np.ndim(x))"
      ],
      "metadata": {
        "colab": {
          "base_uri": "https://localhost:8080/"
        },
        "id": "VlQmJdTsMTEZ",
        "outputId": "2c2276c0-1ee9-4c44-814c-11842ebe45f7"
      },
      "execution_count": 24,
      "outputs": [
        {
          "output_type": "stream",
          "name": "stdout",
          "text": [
            "x: 42\n",
            "The type of x: <class 'numpy.ndarray'>\n",
            "The dimension of x: 0\n"
          ]
        }
      ]
    },
    {
      "cell_type": "code",
      "source": [
        "#1D - Vectors\n",
        "#numpy is homogenous type\n",
        "\n",
        "F = np.array([1, 1, 2, 3, 8, 5, 13, 21])\n",
        "V = np.array([3.4, 6.9, 99.8, 12.8])\n",
        "print(\"F:\",F)\n",
        "print(\"V:\",V)\n",
        "print(\"Type of F:\", F.dtype)\n",
        "print(\"Type of V:\", V.dtype)\n",
        "print(\"Dimension of F:\", np.ndim(F))\n",
        "print(\"Dimension of V:\", np.ndim(V))"
      ],
      "metadata": {
        "colab": {
          "base_uri": "https://localhost:8080/"
        },
        "id": "SRtCbY-NNaHA",
        "outputId": "067b5e84-399a-4fc9-cdf1-8ddf8956d9f6"
      },
      "execution_count": 25,
      "outputs": [
        {
          "output_type": "stream",
          "name": "stdout",
          "text": [
            "F: [ 1  1  2  3  8  5 13 21]\n",
            "V: [ 3.4  6.9 99.8 12.8]\n",
            "Type of F: int64\n",
            "Type of V: float64\n",
            "Dimension of F: 1\n",
            "Dimension of V: 1\n"
          ]
        }
      ]
    },
    {
      "cell_type": "code",
      "source": [
        "#2D\n",
        "A = np.array([[3.4, 8.7, 9.9],\n",
        "              [1.1, -7.8, -0.7],\n",
        "              [4.1, 12.3, 4.8]])\n",
        "print(A)\n",
        "print(A.ndim)"
      ],
      "metadata": {
        "colab": {
          "base_uri": "https://localhost:8080/"
        },
        "id": "UIA_T3wVc-jF",
        "outputId": "48837948-4400-4494-9258-0e5cb938d457"
      },
      "execution_count": 26,
      "outputs": [
        {
          "output_type": "stream",
          "name": "stdout",
          "text": [
            "[[ 3.4  8.7  9.9]\n",
            " [ 1.1 -7.8 -0.7]\n",
            " [ 4.1 12.3  4.8]]\n",
            "2\n"
          ]
        }
      ]
    },
    {
      "cell_type": "code",
      "source": [
        "#3D\n",
        "B = np.array([[[111, 112], [121, 122]],\n",
        "              [[211, 212], [221, 222]],\n",
        "              [[311, 312], [321, 322]]])\n",
        "print(B)\n",
        "print(B.ndim)"
      ],
      "metadata": {
        "colab": {
          "base_uri": "https://localhost:8080/"
        },
        "id": "dcqSOrD0dbtk",
        "outputId": "1b1f9f62-0373-4fb9-ae48-a463b13ec7fd"
      },
      "execution_count": 27,
      "outputs": [
        {
          "output_type": "stream",
          "name": "stdout",
          "text": [
            "[[[111 112]\n",
            "  [121 122]]\n",
            "\n",
            " [[211 212]\n",
            "  [221 222]]\n",
            "\n",
            " [[311 312]\n",
            "  [321 322]]]\n",
            "3\n"
          ]
        }
      ]
    },
    {
      "cell_type": "markdown",
      "source": [
        "#Shape of Array"
      ],
      "metadata": {
        "id": "EYmtB_gwjRpp"
      }
    },
    {
      "cell_type": "code",
      "source": [
        "x = np.array([[65, 85, 95],\n",
        "              [75, 56, 26],\n",
        "              [48, 63, 86],\n",
        "              [62, 96, 76],\n",
        "              [75, 63, 45],\n",
        "              [68, 92, 78]])\n",
        "print(np.shape(x))"
      ],
      "metadata": {
        "id": "Aa0ZBzzWjQ9B",
        "colab": {
          "base_uri": "https://localhost:8080/"
        },
        "outputId": "03aac08f-8332-4544-bf6b-151b54c80e26"
      },
      "execution_count": 28,
      "outputs": [
        {
          "output_type": "stream",
          "name": "stdout",
          "text": [
            "(6, 3)\n"
          ]
        }
      ]
    },
    {
      "cell_type": "code",
      "source": [
        "x.shape"
      ],
      "metadata": {
        "colab": {
          "base_uri": "https://localhost:8080/"
        },
        "id": "qqQKtFnabr8G",
        "outputId": "53bbb279-a950-4a69-dc13-8363cecbdd67"
      },
      "execution_count": 29,
      "outputs": [
        {
          "output_type": "execute_result",
          "data": {
            "text/plain": [
              "(6, 3)"
            ]
          },
          "metadata": {},
          "execution_count": 29
        }
      ]
    },
    {
      "cell_type": "code",
      "source": [
        "x.shape = (3, 6)\n",
        "x"
      ],
      "metadata": {
        "colab": {
          "base_uri": "https://localhost:8080/"
        },
        "id": "LsRroAHsbvW8",
        "outputId": "2e2a283f-7ec7-4e23-8fc4-23a100835961"
      },
      "execution_count": 31,
      "outputs": [
        {
          "output_type": "execute_result",
          "data": {
            "text/plain": [
              "array([[65, 85, 95, 75, 56, 26],\n",
              "       [48, 63, 86, 62, 96, 76],\n",
              "       [75, 63, 45, 68, 92, 78]])"
            ]
          },
          "metadata": {},
          "execution_count": 31
        }
      ]
    },
    {
      "cell_type": "code",
      "source": [
        "x.shape = (2, 9)\n",
        "x"
      ],
      "metadata": {
        "colab": {
          "base_uri": "https://localhost:8080/"
        },
        "id": "yrLtFQUDcECb",
        "outputId": "ec17151b-0ab6-4959-cac0-58b11124a448"
      },
      "execution_count": 32,
      "outputs": [
        {
          "output_type": "execute_result",
          "data": {
            "text/plain": [
              "array([[65, 85, 95, 75, 56, 26, 48, 63, 86],\n",
              "       [62, 96, 76, 75, 63, 45, 68, 92, 78]])"
            ]
          },
          "metadata": {},
          "execution_count": 32
        }
      ]
    },
    {
      "cell_type": "code",
      "source": [
        "#scalar\n",
        "x = np.array(11)\n",
        "np.shape(x)"
      ],
      "metadata": {
        "colab": {
          "base_uri": "https://localhost:8080/"
        },
        "id": "v2MhggdfcK9k",
        "outputId": "a945e998-fcca-4029-db90-41fc137940ee"
      },
      "execution_count": 34,
      "outputs": [
        {
          "output_type": "execute_result",
          "data": {
            "text/plain": [
              "()"
            ]
          },
          "metadata": {},
          "execution_count": 34
        }
      ]
    },
    {
      "cell_type": "code",
      "source": [
        "B = np.array([[[111, 112, 113], [121, 122, 123]],\n",
        "              [[211, 212, 213], [221, 222, 223]],])\n",
        "B.shape"
      ],
      "metadata": {
        "colab": {
          "base_uri": "https://localhost:8080/"
        },
        "id": "v3VOP-f-cZzr",
        "outputId": "d67c8c9d-07ae-4568-e897-e00dcb114ed5"
      },
      "execution_count": 35,
      "outputs": [
        {
          "output_type": "execute_result",
          "data": {
            "text/plain": [
              "(2, 2, 3)"
            ]
          },
          "metadata": {},
          "execution_count": 35
        }
      ]
    },
    {
      "cell_type": "code",
      "source": [
        "B.shape = (3, 4)\n",
        "B"
      ],
      "metadata": {
        "colab": {
          "base_uri": "https://localhost:8080/"
        },
        "id": "4thdkCKpkIQO",
        "outputId": "34e80bda-39f0-4c88-8293-955b22e7e84a"
      },
      "execution_count": 36,
      "outputs": [
        {
          "output_type": "execute_result",
          "data": {
            "text/plain": [
              "array([[111, 112, 113, 121],\n",
              "       [122, 123, 211, 212],\n",
              "       [213, 221, 222, 223]])"
            ]
          },
          "metadata": {},
          "execution_count": 36
        }
      ]
    }
  ]
}