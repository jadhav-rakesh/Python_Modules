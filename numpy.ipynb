{
  "nbformat": 4,
  "nbformat_minor": 0,
  "metadata": {
    "colab": {
      "provenance": [],
      "authorship_tag": "ABX9TyMp3EufceOT2fGWDteJnoGX",
      "include_colab_link": true
    },
    "kernelspec": {
      "name": "python3",
      "display_name": "Python 3"
    },
    "language_info": {
      "name": "python"
    }
  },
  "cells": [
    {
      "cell_type": "markdown",
      "metadata": {
        "id": "view-in-github",
        "colab_type": "text"
      },
      "source": [
        "<a href=\"https://colab.research.google.com/github/jadhav-rakesh/Python_Modules/blob/main/numpy.ipynb\" target=\"_parent\"><img src=\"https://colab.research.google.com/assets/colab-badge.svg\" alt=\"Open In Colab\"/></a>"
      ]
    },
    {
      "cell_type": "code",
      "execution_count": 1,
      "metadata": {
        "id": "eR6auhedahbL"
      },
      "outputs": [],
      "source": [
        "import numpy as np"
      ]
    },
    {
      "cell_type": "code",
      "source": [
        "#Gajendragad Weather Values  on 26/01/25\n",
        "cvalues = [32.1, 31.8, 31.9, 31.5, 30.7, 28.3, 26.8, 24.2, 22.9, 21.1]"
      ],
      "metadata": {
        "id": "N6RJsYS1a9lZ"
      },
      "execution_count": 2,
      "outputs": []
    },
    {
      "cell_type": "code",
      "source": [
        "c = np.array(cvalues)\n",
        "c"
      ],
      "metadata": {
        "colab": {
          "base_uri": "https://localhost:8080/"
        },
        "id": "PZq18l3_duFW",
        "outputId": "1dfc1379-bce5-4e88-c8ae-de9394def14e"
      },
      "execution_count": 3,
      "outputs": [
        {
          "output_type": "execute_result",
          "data": {
            "text/plain": [
              "array([32.1, 31.8, 31.9, 31.5, 30.7, 28.3, 26.8, 24.2, 22.9, 21.1])"
            ]
          },
          "metadata": {},
          "execution_count": 3
        }
      ]
    },
    {
      "cell_type": "code",
      "source": [
        "c * 9 / 5 + 32"
      ],
      "metadata": {
        "colab": {
          "base_uri": "https://localhost:8080/"
        },
        "id": "YfaSSYFMdxp4",
        "outputId": "0ec4ebbc-6c33-4dfa-b831-df40d89df524"
      },
      "execution_count": 4,
      "outputs": [
        {
          "output_type": "execute_result",
          "data": {
            "text/plain": [
              "array([89.78, 89.24, 89.42, 88.7 , 87.26, 82.94, 80.24, 75.56, 73.22,\n",
              "       69.98])"
            ]
          },
          "metadata": {},
          "execution_count": 4
        }
      ]
    },
    {
      "cell_type": "code",
      "source": [
        "c"
      ],
      "metadata": {
        "colab": {
          "base_uri": "https://localhost:8080/"
        },
        "id": "xZqxoh_-eF3f",
        "outputId": "f0186c14-4edf-498d-f280-1572fa28988a"
      },
      "execution_count": 5,
      "outputs": [
        {
          "output_type": "execute_result",
          "data": {
            "text/plain": [
              "array([32.1, 31.8, 31.9, 31.5, 30.7, 28.3, 26.8, 24.2, 22.9, 21.1])"
            ]
          },
          "metadata": {},
          "execution_count": 5
        }
      ]
    },
    {
      "cell_type": "code",
      "source": [
        "#using python[looks awkward]\n",
        "fvalues = [x*9/5 + 32 for x in cvalues]\n",
        "fvalues"
      ],
      "metadata": {
        "colab": {
          "base_uri": "https://localhost:8080/"
        },
        "id": "iq7d8j8LePZq",
        "outputId": "cf0d08b4-d8e2-4139-a8a1-5563ae133f69"
      },
      "execution_count": 6,
      "outputs": [
        {
          "output_type": "execute_result",
          "data": {
            "text/plain": [
              "[89.78,\n",
              " 89.24,\n",
              " 89.41999999999999,\n",
              " 88.7,\n",
              " 87.26,\n",
              " 82.94,\n",
              " 80.24000000000001,\n",
              " 75.56,\n",
              " 73.22,\n",
              " 69.98]"
            ]
          },
          "metadata": {},
          "execution_count": 6
        }
      ]
    },
    {
      "cell_type": "code",
      "source": [
        "type(c)"
      ],
      "metadata": {
        "colab": {
          "base_uri": "https://localhost:8080/"
        },
        "id": "cm4kag0leggS",
        "outputId": "f1d21f8e-21d1-4062-9939-ca30b33ced6f"
      },
      "execution_count": 7,
      "outputs": [
        {
          "output_type": "execute_result",
          "data": {
            "text/plain": [
              "numpy.ndarray"
            ]
          },
          "metadata": {},
          "execution_count": 7
        }
      ]
    },
    {
      "cell_type": "code",
      "source": [
        "#for jupyter notebook to prevent pop up of window\n",
        "# matplotlib inline"
      ],
      "metadata": {
        "id": "M2OIYJ7wf3JR"
      },
      "execution_count": 8,
      "outputs": []
    },
    {
      "cell_type": "code",
      "source": [
        "import matplotlib.pyplot as plt\n",
        "\n",
        "plt.plot(c)\n",
        "plt.show()"
      ],
      "metadata": {
        "colab": {
          "base_uri": "https://localhost:8080/",
          "height": 430
        },
        "id": "f1MzaTl1gLfP",
        "outputId": "7121a1cc-df40-4b96-9cef-c1e61a471c4c"
      },
      "execution_count": 9,
      "outputs": [
        {
          "output_type": "display_data",
          "data": {
            "text/plain": [
              "<Figure size 640x480 with 1 Axes>"
            ],
            "image/png": "[encoded data removed]"
          },
          "metadata": {}
        }
      ]
    },
    {
      "cell_type": "code",
      "source": [
        "from sys import getsizeof as size\n",
        "\n",
        "lst = [24, 13, 57]\n",
        "\n",
        "size_of_list_object = size(lst)\n",
        "size_of_elements = len(lst) * size(lst[0])\n",
        "\n",
        "total_list_size = size_of_list_object + size_of_elements\n",
        "print(\"Size without the size of the elements:\", size_of_list_object)\n",
        "print(\"Sizel of all the elements:\", size_of_elements)\n",
        "print(\"Total size of list, including elements:\", total_list_size)\n"
      ],
      "metadata": {
        "colab": {
          "base_uri": "https://localhost:8080/"
        },
        "id": "b1tw1e4ElUWt",
        "outputId": "ba5d3d1f-a6eb-447f-99bd-98e46ebea72f"
      },
      "execution_count": 10,
      "outputs": [
        {
          "output_type": "stream",
          "name": "stdout",
          "text": [
            "Size without the size of the elements: 88\n",
            "Sizel of all the elements: 84\n",
            "Total size of list, including elements: 172\n"
          ]
        }
      ]
    },
    {
      "cell_type": "code",
      "source": [
        "from sys import getsizeof as size\n",
        "\n",
        "lst = [24, 13, 57, 42]\n",
        "\n",
        "size_of_list_object = size(lst)\n",
        "size_of_elements = len(lst) * size(lst[0])\n",
        "\n",
        "total_list_size = size_of_list_object + size_of_elements\n",
        "print(\"Size without the size of the elements:\", size_of_list_object)\n",
        "print(\"Sizel of all the elements:\", size_of_elements)\n",
        "print(\"Total size of list, including elements:\", total_list_size)"
      ],
      "metadata": {
        "colab": {
          "base_uri": "https://localhost:8080/"
        },
        "id": "05vRBf2VkITJ",
        "outputId": "7adf4fe7-8371-4755-dc5f-ecd6340d7c10"
      },
      "execution_count": 11,
      "outputs": [
        {
          "output_type": "stream",
          "name": "stdout",
          "text": [
            "Size without the size of the elements: 88\n",
            "Sizel of all the elements: 112\n",
            "Total size of list, including elements: 200\n"
          ]
        }
      ]
    },
    {
      "cell_type": "code",
      "source": [
        "from sys import getsizeof as size\n",
        "\n",
        "lst = [24, 13, 57, 42,  76]\n",
        "\n",
        "size_of_list_object = size(lst)\n",
        "size_of_elements = len(lst) * size(lst[0])\n",
        "\n",
        "total_list_size = size_of_list_object + size_of_elements\n",
        "print(\"Size without the size of the elements:\", size_of_list_object)\n",
        "print(\"Sizel of all the elements:\", size_of_elements)\n",
        "print(\"Total size of list, including elements:\", total_list_size)"
      ],
      "metadata": {
        "colab": {
          "base_uri": "https://localhost:8080/"
        },
        "id": "DpBXr0Q6mP9l",
        "outputId": "e543239c-f648-41e0-8b1e-4e8c64b05dba"
      },
      "execution_count": 12,
      "outputs": [
        {
          "output_type": "stream",
          "name": "stdout",
          "text": [
            "Size without the size of the elements: 104\n",
            "Sizel of all the elements: 140\n",
            "Total size of list, including elements: 244\n"
          ]
        }
      ]
    },
    {
      "cell_type": "code",
      "source": [
        "a = np.array([24, 13, 57])\n",
        "print(size(a))"
      ],
      "metadata": {
        "colab": {
          "base_uri": "https://localhost:8080/"
        },
        "id": "Deyj_OnL3AO1",
        "outputId": "a5df7aba-6354-492d-8b66-3c6dc87cba6c"
      },
      "execution_count": 13,
      "outputs": [
        {
          "output_type": "stream",
          "name": "stdout",
          "text": [
            "136\n"
          ]
        }
      ]
    },
    {
      "cell_type": "code",
      "source": [
        "e = np.array([])\n",
        "print(size(e))"
      ],
      "metadata": {
        "colab": {
          "base_uri": "https://localhost:8080/"
        },
        "id": "3etIgmTp3yek",
        "outputId": "9e1eca8e-cc8a-45b3-e2df-c8eccaeda038"
      },
      "execution_count": 14,
      "outputs": [
        {
          "output_type": "stream",
          "name": "stdout",
          "text": [
            "112\n"
          ]
        }
      ]
    },
    {
      "cell_type": "markdown",
      "source": [
        "#Memory requirement\n",
        "* numpy array - 112 + (len(arr) * 8) bytes\n",
        "* python array - 64 + (len(arr) * 8) + (len(arr) * 28) bytes"
      ],
      "metadata": {
        "id": "nxVyNvsYCSj6"
      }
    },
    {
      "cell_type": "code",
      "source": [
        "a = np.array([24, 13, 57], np.int8)\n",
        "print(size(a) - 112)\n",
        "\n",
        "a = np.array([24, 13, 57], np.int16)\n",
        "print(size(a) - 112)\n",
        "\n",
        "a = np.array([24, 13, 57], np.int32)\n",
        "print(size(a) - 112)\n",
        "\n",
        "a = np.array([24, 13, 57], np.int64)\n",
        "print(size(a) - 112)"
      ],
      "metadata": {
        "colab": {
          "base_uri": "https://localhost:8080/"
        },
        "id": "OIqUhPnLCCy8",
        "outputId": "618b7b20-320e-45b6-d29a-d486a427f26e"
      },
      "execution_count": 15,
      "outputs": [
        {
          "output_type": "stream",
          "name": "stdout",
          "text": [
            "3\n",
            "6\n",
            "12\n",
            "24\n"
          ]
        }
      ]
    },
    {
      "cell_type": "code",
      "source": [
        "import time\n",
        "size_of_vec = 1000\n",
        "\n",
        "def pure_python_version():\n",
        "    t1 = time.time()\n",
        "    X = range(size_of_vec)\n",
        "    Y = range(size_of_vec)\n",
        "    Z = [X[i] + Y[i] for i in range(len(X))]\n",
        "    return time.time() - t1\n",
        "\n",
        "def numpy_version():\n",
        "    t1 = time.time()\n",
        "    X = np.arange(size_of_vec)\n",
        "    Y = np.arange(size_of_vec)\n",
        "    Z = X + Y\n",
        "    return time.time() - t1\n",
        "\n",
        "t1 = pure_python_version()\n",
        "t2 = numpy_version()\n",
        "\n",
        "print(t1, t2)\n",
        "print(\"Numpy is in this example \" + str(t1/t2) + \"faster!\")"
      ],
      "metadata": {
        "colab": {
          "base_uri": "https://localhost:8080/"
        },
        "id": "LIhPSDBkEa-L",
        "outputId": "a2b25285-bd0f-41e0-b5f0-e0e1e56166ef"
      },
      "execution_count": 16,
      "outputs": [
        {
          "output_type": "stream",
          "name": "stdout",
          "text": [
            "0.001461029052734375 0.008768796920776367\n",
            "Numpy is in this example 0.1666168193806248faster!\n"
          ]
        }
      ]
    },
    {
      "cell_type": "code",
      "source": [
        "from timeit import Timer\n",
        "\n",
        "size_of_vec = 1000\n",
        "\n",
        "X_list = range(size_of_vec)\n",
        "Y_list = range(size_of_vec)\n",
        "\n",
        "X = np.arange(size_of_vec)\n",
        "Y = np.arange(size_of_vec)\n",
        "\n",
        "def pure_python_version():\n",
        "    Z = [X_list[i] + Y_list[i] for i in range(len(X_list))]\n",
        "\n",
        "def numpy_version():\n",
        "    Z = X + Y\n",
        "\n",
        "timer_obj1 = Timer(\"pure_python_version()\", \"from __main__ import pure_python_version\")\n",
        "timer_obj2 = Timer(\"numpy_version\", \"from __main__ import numpy_version\")\n",
        "\n",
        "for i in range(3):\n",
        "    t1 = timer_obj1.timeit(10)\n",
        "    t2 = timer_obj2.timeit(10)\n",
        "    print(\"TIme for pure python version: \", t1)\n",
        "    print(\"Time for numpy version: \", t2)\n",
        "    print(f\"Numpy wa {t1/t2:7.2f} times faster!\")"
      ],
      "metadata": {
        "colab": {
          "base_uri": "https://localhost:8080/"
        },
        "id": "SncIKKEaGP0B",
        "outputId": "7a9e9a01-d10b-48ed-cd6a-0bd59177e974"
      },
      "execution_count": 17,
      "outputs": [
        {
          "output_type": "stream",
          "name": "stdout",
          "text": [
            "TIme for pure python version:  0.0033074319999997215\n",
            "Time for numpy version:  2.054999995948492e-06\n",
            "Numpy wa 1609.46 times faster!\n",
            "TIme for pure python version:  0.004548338000006424\n",
            "Time for numpy version:  8.330000014211691e-07\n",
            "Numpy wa 5460.19 times faster!\n",
            "TIme for pure python version:  0.0041263939999964805\n",
            "Time for numpy version:  6.51999997103303e-07\n",
            "Numpy wa 6328.83 times faster!\n"
          ]
        }
      ]
    },
    {
      "cell_type": "code",
      "source": [
        "print(timer_obj1.repeat(repeat=3, number=10))\n",
        "print(timer_obj2.repeat(repeat=3, number=10))"
      ],
      "metadata": {
        "colab": {
          "base_uri": "https://localhost:8080/"
        },
        "id": "8cs2T2ahJZh6",
        "outputId": "d528fc5e-8391-4b2a-f3b9-498374bab0d9"
      },
      "execution_count": 18,
      "outputs": [
        {
          "output_type": "stream",
          "name": "stdout",
          "text": [
            "[0.008146613999997498, 0.004004889000000844, 0.005110501000004319]\n",
            "[6.520000113141577e-07, 6.399999961104186e-07, 4.1100000203186937e-07]\n"
          ]
        }
      ]
    },
    {
      "cell_type": "markdown",
      "source": [
        "#Creatiing Arrays"
      ],
      "metadata": {
        "id": "e_rHkqKX_owT"
      }
    },
    {
      "cell_type": "code",
      "source": [
        "#ARANGE - create arrays with evenly spaces values\n",
        "#arange([start,] stop[, step], [, dtype=None])\n",
        "#[start, stop)\n",
        "\n",
        "a = np.arange(1, 10)\n",
        "print(a)\n",
        "\n",
        "x = range(1, 10)\n",
        "print(x)\n",
        "print(list(x))\n",
        "\n",
        "x = np.arange(10.4)\n",
        "print(x)\n",
        "x = np.arange(0.5, 10.4, 0.8)\n",
        "print(x)"
      ],
      "metadata": {
        "id": "krLR7ne6JnyA",
        "colab": {
          "base_uri": "https://localhost:8080/"
        },
        "outputId": "dffd9125-f4b2-4f56-de32-000c928b92af"
      },
      "execution_count": 22,
      "outputs": [
        {
          "output_type": "stream",
          "name": "stdout",
          "text": [
            "[1 2 3 4 5 6 7 8 9]\n",
            "range(1, 10)\n",
            "[1, 2, 3, 4, 5, 6, 7, 8, 9]\n",
            "[ 0.  1.  2.  3.  4.  5.  6.  7.  8.  9. 10.]\n",
            "[ 0.5  1.3  2.1  2.9  3.7  4.5  5.3  6.1  6.9  7.7  8.5  9.3 10.1]\n"
          ]
        }
      ]
    },
    {
      "cell_type": "code",
      "source": [
        "np.arange(12.04, 12.84, 0.08)"
      ],
      "metadata": {
        "colab": {
          "base_uri": "https://localhost:8080/"
        },
        "id": "JYDk5qmWBtqT",
        "outputId": "82c47651-93db-4212-d8dd-300462f48947"
      },
      "execution_count": 24,
      "outputs": [
        {
          "output_type": "execute_result",
          "data": {
            "text/plain": [
              "array([12.04, 12.12, 12.2 , 12.28, 12.36, 12.44, 12.52, 12.6 , 12.68,\n",
              "       12.76, 12.84])"
            ]
          },
          "metadata": {},
          "execution_count": 24
        }
      ]
    },
    {
      "cell_type": "code",
      "source": [
        "x = np.arange(0.5, 10.4, 0.8, int)\n",
        "x"
      ],
      "metadata": {
        "colab": {
          "base_uri": "https://localhost:8080/"
        },
        "id": "n96TKHpsBs9Q",
        "outputId": "2e2652d7-724e-4d1d-e4e9-29bafd989e0a"
      },
      "execution_count": 26,
      "outputs": [
        {
          "output_type": "execute_result",
          "data": {
            "text/plain": [
              "array([ 0,  1,  2,  3,  4,  5,  6,  7,  8,  9, 10, 11, 12])"
            ]
          },
          "metadata": {},
          "execution_count": 26
        }
      ]
    },
    {
      "cell_type": "code",
      "source": [],
      "metadata": {
        "id": "veoxVyP8EGuv"
      },
      "execution_count": null,
      "outputs": []
    }
  ]
}